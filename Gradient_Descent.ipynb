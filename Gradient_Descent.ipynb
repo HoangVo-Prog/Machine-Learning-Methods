{
  "nbformat": 4,
  "nbformat_minor": 0,
  "metadata": {
    "colab": {
      "provenance": []
    },
    "kernelspec": {
      "name": "python3",
      "display_name": "Python 3"
    },
    "language_info": {
      "name": "python"
    }
  },
  "cells": [
    {
      "cell_type": "markdown",
      "source": [
        "###Machine learning cơ bản"
      ],
      "metadata": {
        "id": "nspmRMLgog82"
      }
    },
    {
      "cell_type": "markdown",
      "source": [
        "**Gradient Descent cho hàm 1 biến**"
      ],
      "metadata": {
        "id": "tNhcYuvhVirQ"
      }
    },
    {
      "cell_type": "code",
      "execution_count": null,
      "metadata": {
        "id": "pYPiLRI1jVEr"
      },
      "outputs": [],
      "source": [
        "import math\n",
        "import numpy as np\n",
        "import matplotlib.pyplot as plt"
      ]
    },
    {
      "cell_type": "markdown",
      "source": [
        "VD: *f*(x) = 1/2*x^2 + 5sin(x)"
      ],
      "metadata": {
        "id": "_3qyML2I8jAN"
      }
    },
    {
      "cell_type": "code",
      "source": [
        "def grad(x):\n",
        "  return x + 5*np.cos(x)\n",
        "\n",
        "def cost(x):\n",
        "  return 1/2*x**2 + 5*np.sin(x)\n",
        "\n",
        "def grad2(x):\n",
        "  return 1 - 5*np.sin(x)\n",
        "\n",
        "def myGD1(eta, x0):\n",
        "  x = [x0]\n",
        "  for it in range(1000):\n",
        "    x_new = x[-1] - eta * grad(x[-1])\n",
        "    if abs(grad(x_new)) < 1e-3:\n",
        "      break\n",
        "    x.append(x_new)\n",
        "  return (x, it)\n",
        "\n",
        "  # Công thức Newton-Raphson\n",
        "def myGD2(x0):\n",
        "  x = [x0]\n",
        "  for it in range(1000):\n",
        "    x_new = x[-1] - grad(x[-1]) / grad2(x[-1])\n",
        "    if abs(x_new - x[-1]) < 1e-3:\n",
        "      break\n",
        "    x.append(x_new)\n",
        "  return (x, it)"
      ],
      "metadata": {
        "id": "HV7HGxrJVPJ8"
      },
      "execution_count": null,
      "outputs": []
    },
    {
      "cell_type": "code",
      "source": [
        "(x1, it1) = myGD1(.01, -2)\n",
        "(x2, it2) = myGD1(.1, 2)\n",
        "(x3, it3) = myGD1(.01, 1.5)\n",
        "\n",
        "(x4, it4) = myGD2(4)\n",
        "(x5, it5) = myGD2(3)\n",
        "(x6, it6) = myGD2(1)\n",
        "(x7, it7) = myGD2(-4)\n",
        "print('Solution x1 = %f, cost = %f, obtained after %d iterations'%(x1[-1], cost(x1[-1]), it1))\n",
        "print('Solution x2 = %f, cost = %f, obtained after %d iterations'%(x2[-1], cost(x2[-1]), it2))\n",
        "print('Solution x3 = %f, cost = %f, obtained after %d iterations'%(x3[-1], cost(x3[-1]), it3))\n",
        "print()\n",
        "print(\"Solution x4 = %f, cost = %f, obtained after %d iterations\"%(x4[-1], cost(x4[-1]), it4))\n",
        "print(\"Solution x5 = %f, cost = %f, obtained after %d iterations\"%(x5[-1], cost(x5[-1]), it5))\n",
        "print(\"Solution x6 = %f, cost = %f, obtained after %d iterations\"%(x6[-1], cost(x6[-1]), it6))\n",
        "print(\"Solution x7 = %f, cost = %f, obtained after %d iterations\"%(x7[-1], cost(x7[-1]), it7))"
      ],
      "metadata": {
        "colab": {
          "base_uri": "https://localhost:8080/"
        },
        "id": "zN62ZhwlVPYq",
        "outputId": "1db264d1-af89-4253-bae0-e4d40fe0e37b"
      },
      "execution_count": null,
      "outputs": [
        {
          "output_type": "stream",
          "name": "stdout",
          "text": [
            "Solution x1 = -1.306618, cost = -3.972912, obtained after 137 iterations\n",
            "Solution x2 = 3.837196, cost = 4.157793, obtained after 30 iterations\n",
            "Solution x3 = -1.306260, cost = -3.972912, obtained after 194 iterations\n",
            "\n",
            "Solution x4 = 3.837508, cost = 4.157793, obtained after 2 iterations\n",
            "Solution x5 = -11.727416, cost = 72.485867, obtained after 999 iterations\n",
            "Solution x6 = 1.977342, cost = 6.547402, obtained after 3 iterations\n",
            "Solution x7 = 1.977317, cost = 6.547402, obtained after 17 iterations\n"
          ]
        }
      ]
    },
    {
      "cell_type": "markdown",
      "source": [
        "**Gradient Descent cho hàm nhiều biến**"
      ],
      "metadata": {
        "id": "pi0VRMsE9tme"
      }
    },
    {
      "cell_type": "markdown",
      "source": [
        "Trong bài toán linear regression, ta tối ưu hàm loss như sau:"
      ],
      "metadata": {
        "id": "uhuc2b1MZ3T7"
      }
    },
    {
      "cell_type": "code",
      "source": [
        "import numpy as np\n",
        "import  matplotlib\n",
        "import matplotlib.pyplot as plt\n",
        "np.random.seed(2)"
      ],
      "metadata": {
        "id": "n0aOqlSEaFax"
      },
      "execution_count": null,
      "outputs": []
    },
    {
      "cell_type": "code",
      "source": [
        "X = np.random.rand(1000, 1)\n",
        "y = 4 + 3*X + .2*np.random.randn(1000, 1) # noise added\n",
        "\n",
        "# Building Xbar\n",
        "one = np.ones((X.shape[0], 1))\n",
        "Xbar = np.concatenate((one, X), axis = 1)\n",
        "\n",
        "A = np.dot(Xbar.T, Xbar)\n",
        "b = np.dot(Xbar.T, y)\n",
        "w_lr = np.dot(np.linalg.pinv(A), b)\n",
        "print('Solution found by formula: w = ',w_lr.T)\n",
        "\n",
        "# Display result\n",
        "w = w_lr\n",
        "w_0 = w[0][0]\n",
        "w_1 = w[1][0]\n",
        "x0 = np.linspace(0, 1, 2, endpoint=True)\n",
        "y0 = w_0 + w_1*x0\n",
        "\n",
        "# Draw the fitting line\n",
        "plt.plot(X.T, y.T, 'b.')     # data\n",
        "plt.plot(x0, y0, 'y', linewidth = 2)   # the fitting line\n",
        "plt.axis([0, 1, 0, 10])\n",
        "plt.show()"
      ],
      "metadata": {
        "colab": {
          "base_uri": "https://localhost:8080/",
          "height": 452
        },
        "id": "3PekLOd3aRD-",
        "outputId": "a6809d18-43db-4f00-93c4-82b02f03a573"
      },
      "execution_count": null,
      "outputs": [
        {
          "output_type": "stream",
          "name": "stdout",
          "text": [
            "Solution found by formula: w =  [[4.0071715  2.98225924]]\n"
          ]
        },
        {
          "output_type": "display_data",
          "data": {
            "text/plain": [
              "<Figure size 640x480 with 1 Axes>"
            ],
            "image/png": "[encoded data removed]"
          },
          "metadata": {}
        }
      ]
    },
    {
      "cell_type": "markdown",
      "source": [
        "Đường thẳng tìm được có phương trình y ~ 4 + 2.998x\n",
        "\n",
        "Ta viết đạo hàm và hàm mất mát"
      ],
      "metadata": {
        "id": "jGrWv2C7q8np"
      }
    },
    {
      "cell_type": "code",
      "source": [
        "def grad(w):\n",
        "  N = Xbar.shape[0]\n",
        "  return 1/N * Xbar.T.dot(Xbar.dot(w) - y)\n",
        "\n",
        "def cost(w):\n",
        "    N = Xbar.shape[0]\n",
        "    return .5/N*np.linalg.norm(y - Xbar.dot(w), 2)**2;"
      ],
      "metadata": {
        "id": "U-u7FQyCrH1o"
      },
      "execution_count": null,
      "outputs": []
    },
    {
      "cell_type": "code",
      "source": [
        "def numerical_grad(w, cost):\n",
        "    eps = 1e-4\n",
        "    g = np.zeros_like(w)\n",
        "    for i in range(len(w)):\n",
        "        w_p = w.copy()\n",
        "        w_n = w.copy()\n",
        "        w_p[i] += eps\n",
        "        w_n[i] -= eps\n",
        "        g[i] = (cost(w_p) - cost(w_n))/(2*eps)\n",
        "    return g\n",
        "# Hàm này dùng để kiểm tra xem đạo hàm tính tay có đúng không\n",
        "# Nếu hàm là một ma trận, thì chúng ta thay đổi một chút trong numerical_grad\n",
        "def check_grad(w, cost, grad):\n",
        "    w = np.random.rand(w.shape[0], w.shape[1])\n",
        "    grad1 = grad(w)\n",
        "    grad2 = numerical_grad(w, cost)\n",
        "    return True if np.linalg.norm(grad1 - grad2) < 1e-6 else False\n",
        "\n",
        "print( 'Checking gradient...', check_grad(np.random.rand(2, 1), cost, grad))"
      ],
      "metadata": {
        "colab": {
          "base_uri": "https://localhost:8080/"
        },
        "id": "G_TFlXgGrs0N",
        "outputId": "39c9ed66-0598-492a-e6f1-499b47eda22e"
      },
      "execution_count": null,
      "outputs": [
        {
          "output_type": "stream",
          "name": "stdout",
          "text": [
            "Checking gradient... True\n"
          ]
        }
      ]
    },
    {
      "cell_type": "code",
      "source": [
        "def myGD(w_init, grad, eta):\n",
        "    w = [w_init]\n",
        "    for it in range(100):\n",
        "        w_new = w[-1] - eta*grad(w[-1])\n",
        "        if np.linalg.norm(grad(w_new))/len(w_new) < 1e-3:\n",
        "            break\n",
        "        w.append(w_new)\n",
        "    return (w, it)\n",
        "\n",
        "w_init = np.array([[2], [1]])\n",
        "(w1, it1) = myGD(w_init, grad, 1)\n",
        "print('Solution found by GD: w = ', w1[-1].T, ',\\nafter %d iterations.' %(it1+1))"
      ],
      "metadata": {
        "colab": {
          "base_uri": "https://localhost:8080/"
        },
        "id": "cgk1r7z9r4bG",
        "outputId": "5170d5d3-4e9f-43d6-cc1a-be3e10b6260d"
      },
      "execution_count": null,
      "outputs": [
        {
          "output_type": "stream",
          "name": "stdout",
          "text": [
            "Solution found by GD: w =  [[4.02199496 2.95380036]] ,\n",
            "after 50 iterations.\n"
          ]
        }
      ]
    },
    {
      "cell_type": "markdown",
      "source": [
        "**Gradient Descent với Momentum (GDm)**"
      ],
      "metadata": {
        "id": "-z67I6PFD5Bf"
      }
    },
    {
      "cell_type": "code",
      "source": [
        "# check convergence\n",
        "def has_converged(theta_new, grad):\n",
        "    return abs(np.linalg.norm(grad(theta_new))) < 1e-3\n",
        "\n",
        "def GD_momentum(theta_init, grad, eta, gamma):\n",
        "    # Suppose we want to store history of theta\n",
        "    theta = [theta_init]\n",
        "    v_old = np.zeros_like(theta_init)\n",
        "    for it in range(1000):\n",
        "        v_new = gamma*v_old + eta*grad(theta[-1])\n",
        "        theta_new = theta[-1] - v_new\n",
        "        if has_converged(theta_new, grad):\n",
        "            break\n",
        "        theta.append(theta_new)\n",
        "        v_old = v_new\n",
        "    return (theta, it)\n",
        "    # this variable includes all points in the path\n",
        "    # if you just want the final answer,\n",
        "    # use `return theta[-1]`"
      ],
      "metadata": {
        "id": "mY6FRQUBEmnc"
      },
      "execution_count": null,
      "outputs": []
    },
    {
      "cell_type": "code",
      "source": [
        "def grad(x):\n",
        "  return x + 5*np.cos(x)\n",
        "\n",
        "def cost(x):\n",
        "  return 1/2*x**2 + 5*np.sin(x)"
      ],
      "metadata": {
        "id": "Epl0sfegHpgY"
      },
      "execution_count": null,
      "outputs": []
    },
    {
      "cell_type": "code",
      "source": [
        "(X1, IT1) = GD_momentum(0, grad, 0.01, 0.9)\n",
        "print(\"Solution X = %f, cost = %f, obtained after %d iterations\"%(X1[-1], cost(X1[-1]), IT1))\n",
        "(X2, IT2) = GD_momentum(10, grad, 0.01, 0.9)\n",
        "print(\"Solution X = %f, cost = %f, obtained after %d iterations\"%(X2[-1], cost(X2[-1]), IT2))"
      ],
      "metadata": {
        "id": "yYz0zetk6buj",
        "colab": {
          "base_uri": "https://localhost:8080/"
        },
        "outputId": "e9c631bd-3644-443d-dda4-dcf49efe67af"
      },
      "execution_count": null,
      "outputs": [
        {
          "output_type": "stream",
          "name": "stdout",
          "text": [
            "Solution X = -1.302999, cost = -3.972877, obtained after 85 iterations\n",
            "Solution X = -1.307264, cost = -3.972910, obtained after 148 iterations\n"
          ]
        }
      ]
    },
    {
      "cell_type": "markdown",
      "source": [
        "**Nesterov accelerated gradient (NAG)**"
      ],
      "metadata": {
        "id": "ZZYaFmtR6Mxp"
      }
    },
    {
      "cell_type": "code",
      "source": [
        "def stop_point(theta_new, grad):\n",
        "  return np.linalg.norm(grad(theta_new)) < 1e-3\n",
        "\n",
        "def NAG(theta_init, grad, eta, gamma):\n",
        "  theta = [theta_init]\n",
        "  v_old = np.zeros_like(1)\n",
        "  for it in range(1000):\n",
        "    v_new = gamma*v_old + eta*grad(theta[-1] - gamma*v_old)\n",
        "    theta_new = theta[-1] -  gamma*v_old\n",
        "    if stop_point(theta_new, grad):\n",
        "      break\n",
        "    v_old = v_new\n",
        "    theta.append(theta_new)\n",
        "  return (theta, it)"
      ],
      "metadata": {
        "id": "1Lwofvvm6vL4"
      },
      "execution_count": null,
      "outputs": []
    },
    {
      "cell_type": "code",
      "source": [
        "# This case NAG is slower than GDm\n",
        "(X3, IT3) = NAG(0, grad, 0.01, 0.9)\n",
        "print(\"Solution X = %f, cost = %f, obtained after %d iterations\"%(X3[-1], cost(X3[-1]), IT3))\n",
        "(X4, IT4) = NAG(10, grad, 0.01, 0.9)\n",
        "print(\"Solution X = %f, cost = %f, obtained after %d iterations\"%(X4[-1], cost(X4[-1]), IT4))"
      ],
      "metadata": {
        "colab": {
          "base_uri": "https://localhost:8080/"
        },
        "id": "OpVDZs1w_I5D",
        "outputId": "3688b4be-4ec9-4a74-87ff-1ec9ddcc7f3d"
      },
      "execution_count": null,
      "outputs": [
        {
          "output_type": "stream",
          "name": "stdout",
          "text": [
            "Solution X = -1.303962, cost = -3.972894, obtained after 91 iterations\n",
            "Solution X = -1.306888, cost = -3.972911, obtained after 159 iterations\n"
          ]
        }
      ]
    },
    {
      "cell_type": "markdown",
      "source": [
        "**Các thuật toán khác**\n",
        "- Deep Learning: Adagrad, Adam, RMSprop, ...\n"
      ],
      "metadata": {
        "id": "mIkmI9HHBHvC"
      }
    },
    {
      "cell_type": "markdown",
      "source": [
        "**Biến thể của Gradient Descent**"
      ],
      "metadata": {
        "id": "kGQ-uqWOBghq"
      }
    },
    {
      "cell_type": "markdown",
      "source": [
        "- Batch Gradient Descent: VD: trong bài toán tối ưu hàm loss của linear regression thì xem theta = w\n",
        "- Stochastic Gradient Descent (SGD):\n",
        "  + Một epoch là mỗi lần duyệt qua tất cả các điểm trên toàn bộ dữ liệu\n",
        "  + Với GD thông thường thì mỗi epoch tương ứng với 1 lần cập nhật theta; với SGD thì mỗi epoch ứng với N lần cập nhật theta với N là số điểm dữ liệu.  \n",
        "  + Bằng cách giảm đi tốc độ thực hiện 1 epoch, SGD chỉ yêu cầu một lượng epoch rất nhỏ (sau đó có dữ liệu mới thì chỉ cần chạy dưới một epoch là đã có nghiệm tốt)\n",
        "=> SGD phù hợp với các bài toán có lượng cơ sở dữ liệu lớn (chủ yếu là Deep Learning) và các bài toán yêu cầu mô hình thay đổi liên tục, tức là online learning.\n",
        "  + **Thứ tự chọn điểm dữ liệu**: Chú ý: sau mỗi epoch, chúng ta cần shuffle (xáo trộn) thứ tự của các dư liệu để đảm bảo tính ngẫu nhiêu (ảnh hướng đến hiệu năng của SGD)\n",
        "  + **Quy tắc cập nhật**:\n",
        "  theta = theta - eta*nabla(J(theta, x_i, y_i), theta)\n",
        "  trong đó, J(theta, x_i, y_i) là hàm mất mát với chỉ 1 cặp điểm dữ liệu (input, label) là (x_i, y_i). Chú ý: có thể áp dụng các thuật toán GDm, Adagrad, ... vào SGD\n",
        "\n",
        "\n",
        "\n",
        "\n",
        "  \n"
      ],
      "metadata": {
        "id": "Q8nrKESsByPL"
      }
    },
    {
      "cell_type": "markdown",
      "source": [
        "  **Ví dụ với bài toán Linear Regression**"
      ],
      "metadata": {
        "id": "7PKwNXygCnXu"
      }
    },
    {
      "cell_type": "code",
      "source": [
        "# single point gradient\n",
        "def sgrad(w, i, rd_id):\n",
        "    true_i = rd_id[i]\n",
        "    xi = Xbar[true_i, :]\n",
        "    yi = y[true_i]\n",
        "    a = np.dot(xi, w) - yi\n",
        "    return (xi*a).reshape(2, 1)\n",
        "\n",
        "def SGD(w_init, grad, eta):\n",
        "    w = [w_init]\n",
        "    w_last_check = w_init\n",
        "    iter_check_w = 10\n",
        "    N = X.shape[0]\n",
        "    count = 0\n",
        "    for it in range(10):\n",
        "        # shuffle data\n",
        "        rd_id = np.random.permutation(N)\n",
        "        for i in range(N):\n",
        "            count += 1\n",
        "            g = sgrad(w[-1], i, rd_id)\n",
        "            w_new = w[-1] - eta*g\n",
        "            w.append(w_new)\n",
        "            if count%iter_check_w == 0:\n",
        "                w_this_check = w_new\n",
        "                if np.linalg.norm(w_this_check - w_last_check)/len(w_init) < 1e-3:\n",
        "                    return w\n",
        "                w_last_check = w_this_check\n",
        "    return w"
      ],
      "metadata": {
        "id": "mLJFJactBMBl"
      },
      "execution_count": null,
      "outputs": []
    },
    {
      "cell_type": "markdown",
      "source": [
        "- Mini-batch Gradient Descent:\n",
        "  + Sử dụng n > 1 điểm dữ liệu (nhưng vẫn nhỏ hơn tổng số dữ liệu N rất nhiều), mỗi mini-batch có n điểm dữ liệu (trừ batch cuối nếu N%n!= 0).\n",
        "  + Mỗi lần cập nhật, thuật toán lấy ra một mini-batch để tính toán đạo hàm rồi cập nhật.\n",
        "  + Công thức có thể viết dưới dạng:\n",
        "  theta = theta - eta*nabla(J(theta, x_i:i+n, y_i:i+n), theta)\n",
        "  trong đó, x_i:i+n được hiểu là dữ liệu từ thứ i -> i+n-1\n",
        "  + Các thuật toán khác cho GD như GDm, Adagrad, Adadelta, ... cũng có thể được áp dụng.\n",
        "  + Thường sử dụng trong hầu hết các thuật toán ML, đặt biệt là trong DL, với n từ 50 đến 100.\n",
        "  "
      ],
      "metadata": {
        "id": "TVwcD9brNfsL"
      }
    },
    {
      "cell_type": "markdown",
      "source": [
        "- Stopping Criteria (điều kiện dừng)\n",
        "~ Khi nào thuật toán đã hội tụ và dừng lại?\n",
        "Trong thực nghiệm, có một vài phương pháp sau:\n",
        "  + Giới hạn số vòng lặp: đảm bảo chương trình chạy không quá lâu. Nhược điểm: thuật toán dừng lại trước khi đủ gần với nghiệm.\n",
        "  + So sánh Gradient của nghiệm tại hai lần liên tiếp, khi đủ nhỏ thì dừng lại. Nhược điểm: việc tính đạo hàm đôi khi trở nên quá phức tạp (trong TH có quá nhiều dữ liệu, ...), nếu sử dụng pp này thì coi như không được lợi khi sử dụng SGD và mini-batch GD\n",
        "  + So sánh giá trị hàm mất mát của nghiệm tại hai lần cập nhật liên tiếp, khi đủ nhỏ thì dừng lại. Nhược điểm: tại một thòi điểm, đths có dạng bằng phẳng tại một khu vực nhưng khu vực đó không chứa điểm local minimum (khu vực này thường được gọi là saddle points), thuật toán cũng dừng lại trước khi đạt giá trị mong muốn.\n",
        "  + Trong SGD và mini-batch GD, so sánh nghiệm sau một vài lần cập nhật. Đoạn code ở trên về SGD, việc so sánh bắt đầu mỗi khi nghiệm được cập nhật 10 lần."
      ],
      "metadata": {
        "id": "7l05g_w-P-SN"
      }
    },
    {
      "cell_type": "markdown",
      "source": [
        "- Newton's method:\n",
        "    + Trong không gian 1 biến: x_t+1 = x_t - f'(x_t)/f''(x_t)\n",
        "    + Trong không gian nhiều chiều với theta là biến thì: theta = theta - H(J(theta))^(-1)*nabla(J(theta), theta), trong đó H(J(theta)) là đạo hàm bậc hai của hàm mất mát (Hessian matrix) và H(J(theta))^-1 là ma trận nghịch đảo (hoặc ma trận giả nghịch đảo của ma trận đó).\n",
        "    + Hạn chế:\n",
        "      + Điểm khởi tạo phải rất gần với nghiệm  x (dựa trên khai triển Taylor)\n",
        "      + Trong việc giải phương trình f(x) = 0, xuất hiện đạo hàm ở mẫu số. Khi đạo hàm này gần bằng với 0, ta sẽ được một đường thẳng // hoặc gần // với trục hoành. Ta sẽ hoặc không tìm được giao điểm, hoặc được một giao điểm ở vô cùng. Đặc biệt, khi nghiệm chính là điểm có đạo hàm bằng 0, thuật toán xảy ra lỗi, không tìm được nghiệm\n",
        "      + Khi áp dụng Newton's method cho bài toán tối ưu trong không gian nhiều chiều, chúng ta cần tính nghịch đảo của Hessian matrix. Số chiều càng lớn, độ phức tạp càng lớn."
      ],
      "metadata": {
        "id": "So0zbt8SkAZH"
      }
    },
    {
      "cell_type": "markdown",
      "source": [
        "### Tek4k"
      ],
      "metadata": {
        "id": "vrFo7P0PqEvZ"
      }
    },
    {
      "cell_type": "markdown",
      "source": [
        "**Bài toán**: Tìm min & max của một hàm số, chúng ta thường thực hiện giải phương trình với đạo hàm bằng 0, đối với những hàm số phức tạp thì việc giải phương trình đạo hàm bằng 0 gần như không thể. Khi đó, có một phương pháp để giải quyết bài toán là Gradient Descent."
      ],
      "metadata": {
        "id": "Nmpf0m9UYPBk"
      }
    },
    {
      "cell_type": "markdown",
      "source": [
        "Xét hàm số f(x+x_o) khi thực hiện khai triển Taylor hàm số này ta được:\n",
        "  \n",
        "  * f(x+x_o) = f(x) + x_o*f'(x) + o(x_o)^2 (1)\n",
        "\n",
        "với o(x_o)^2 là sai số khi xấp xỉ Taylor cấp 2"
      ],
      "metadata": {
        "id": "_c_Hs40iYxrG"
      }
    },
    {
      "cell_type": "markdown",
      "source": [
        "Từ (1) nếu x_o thay đổi một lượng nghịch đảo với đạo hàm tại x_o thig f(x) sẽ giảm giá trị.\n",
        "\n",
        "Đặt x_o = η*f'(x) (η > 0)\n",
        "\n",
        "Khi đó ta có:\n",
        "    \n",
        "  * f(x - η*f'(x)) = f(x) - η*(f'(x))^2 + o((η*f'(x))^2) (2)<= f(x)\n",
        "\n",
        "Từ đó, ta có giá trị mới của x là x = x - ηf'(x) (3). Vậy ta đã có được công thưc thay đổi giá trị của x sao cho  khi thay đổi  số f(x) luôn giảm giá trị.\n"
      ],
      "metadata": {
        "id": "4xeWQcwBZXQK"
      }
    },
    {
      "cell_type": "markdown",
      "source": [
        "Ở đây xuất hiện hai câu hỏi:\n",
        "\n",
        "-  Thứ nhất là tại sao ta lại đặt x_o = -η*f'(x), ta có thể đặt x_o bằng giá trị khác được không?\n",
        "-  Thứ hai là số η ở đây là gì và nó ảnh hưởng như nào đến tốc độ tim ra giá trị trị x sao cho hàm số f(x) tiệm cận giá trị nhỏ nhất.\n",
        "\n",
        "Với câu hỏi đầu tiên, ta có thể chọn giá  x_o bất kì nhưng phải đảm bảm là sau khi giảm thay đổi x_o thì f(x) phải luôn giảm. Để làm rõ câu hỏi thứ hai ta sẽ xem ở bài sau, khi đó ta sẽ biết η còn được gọi là tốc độ học hay learning rate, đây là một hyparameter trong các thuật toán học máy và học sâu.\n"
      ],
      "metadata": {
        "id": "6wvJbF6Mbigh"
      }
    },
    {
      "cell_type": "markdown",
      "source": [
        "**Cài đặt thuật toán Gradient Descent**"
      ],
      "metadata": {
        "id": "uANyIU-giOVv"
      }
    },
    {
      "cell_type": "code",
      "source": [
        "import numpy as np\n",
        "import matplotlib.pyplot as plt"
      ],
      "metadata": {
        "id": "A5bLhsb9qMnS"
      },
      "execution_count": null,
      "outputs": []
    },
    {
      "cell_type": "code",
      "source": [
        "data = np.random.rand(500, 2)"
      ],
      "metadata": {
        "id": "V-kmvlT_igyp"
      },
      "execution_count": null,
      "outputs": []
    },
    {
      "cell_type": "markdown",
      "source": [
        "**Batch Gradient Descent**\n",
        "Batch Gradient Descent là kỹ thuật mỗi lần cập nhật weight sẽ sử dụng trung bình đạo hàm của toàn bộ dữ liệu.\n",
        "\n",
        "Hàm loss **MSE**:"
      ],
      "metadata": {
        "id": "c3FBj7fUiuqi"
      }
    },
    {
      "cell_type": "code",
      "source": [
        "def loss_function(data,theta):\n",
        "    #get m and b\n",
        "    m = theta[0]\n",
        "    b = theta[1]\n",
        "    loss = 0\n",
        "    #on each data point\n",
        "    for i in range(0, len(data)):\n",
        "        #get x and y\n",
        "        x = data[i, 0]\n",
        "        y = data[i, 1]\n",
        "        #predict the value of y\n",
        "        y_hat = (m*x + b)\n",
        "        #compute loss as given in quation (2)\n",
        "        loss = loss + ((y - (y_hat)) ** 2)\n",
        "    #mean sqaured loss\n",
        "    mean_squared_loss = loss / float(len(data))\n",
        "    return mean_squared_loss"
      ],
      "metadata": {
        "id": "t2XcHO8NjHru"
      },
      "execution_count": null,
      "outputs": []
    },
    {
      "cell_type": "markdown",
      "source": [
        "**Xây dựng công thức tính đạo hàm**\n",
        "\n",
        "Công thức đạo hàm hàm loss theo m sao cho một điểm dữ liệu sẽ là: 2*x*(y-(m*x + b))\n",
        "\n",
        "Công thức đạo hàm hàm loss theo b cho một điểm dữ liệu sẽ là 2*(y - (m*x+b))\n",
        "\n",
        "Trong đó, m và b là các trọng số cần tìm để tối thiểu hàm loss"
      ],
      "metadata": {
        "id": "kmKtoy3bjPZB"
      }
    },
    {
      "cell_type": "code",
      "source": [
        "def compute_gradients(data, theta):\n",
        "    gradients = np.zeros(2)\n",
        "    #total number of data points\n",
        "    N = float(len(data))\n",
        "    m = theta[0]\n",
        "    b = theta[1]\n",
        "    #for each data point\n",
        "    for i in range(len(data)):\n",
        "        x = data[i, 0]\n",
        "        y = data[i, 1]\n",
        "        #gradient of loss function with respect to m as given in (3)\n",
        "        gradients[0] += - (2 / N) * x * (y - (( m* x) + b))\n",
        "        #gradient of loss funcction with respect to b as given in (4)\n",
        "        gradients[1] += - (2 / N) * (y - ((theta[0] * x) + b))\n",
        "    #add epsilon to avoid division by zero error\n",
        "    epsilon = 1e-6\n",
        "    gradients = np.divide(gradients, N + epsilon)\n",
        "    return gradients"
      ],
      "metadata": {
        "id": "7UhBv2Dokq7R"
      },
      "execution_count": null,
      "outputs": []
    },
    {
      "cell_type": "code",
      "source": [
        "theta = np.zeros(2)\n",
        "gr_loss=[]\n",
        "for t in range(50000):\n",
        "    #compute gradients\n",
        "    gradients = compute_gradients(data, theta)\n",
        "    #update parameter\n",
        "    theta = theta - (1e-2*gradients)\n",
        "    #store the loss\n",
        "    gr_loss.append(loss_function(data,theta))\n",
        "plt.plot(gr_loss)"
      ],
      "metadata": {
        "colab": {
          "base_uri": "https://localhost:8080/",
          "height": 447
        },
        "id": "i8LNOCc8k9Ac",
        "outputId": "ed87c7e2-12cb-4ad3-c139-a9cc112f7bd0"
      },
      "execution_count": null,
      "outputs": [
        {
          "output_type": "execute_result",
          "data": {
            "text/plain": [
              "[<matplotlib.lines.Line2D at 0x791c54d3c880>]"
            ]
          },
          "metadata": {},
          "execution_count": 19
        },
        {
          "output_type": "display_data",
          "data": {
            "text/plain": [
              "<Figure size 640x480 with 1 Axes>"
            ],
            "image/png": "[encoded data removed]"
          },
          "metadata": {}
        }
      ]
    },
    {
      "cell_type": "markdown",
      "source": [],
      "metadata": {
        "id": "nibyKMhJkqrT"
      }
    }
  ]
}